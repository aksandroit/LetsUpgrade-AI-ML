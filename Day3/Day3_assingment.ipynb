{
 "cells": [
  {
   "cell_type": "code",
   "execution_count": 1,
   "metadata": {},
   "outputs": [
    {
     "data": {
      "text/plain": [
       "(2+6j)"
      ]
     },
     "execution_count": 1,
     "metadata": {},
     "output_type": "execute_result"
    }
   ],
   "source": [
    "#1.Write a program to subtract two complex numbers in Python.\n",
    "a= 5+4j\n",
    "b= 3-2j\n",
    "c = a-b\n",
    "c"
   ]
  },
  {
   "cell_type": "code",
   "execution_count": 2,
   "metadata": {},
   "outputs": [
    {
     "data": {
      "text/plain": [
       "2.0"
      ]
     },
     "execution_count": 2,
     "metadata": {},
     "output_type": "execute_result"
    }
   ],
   "source": [
    "#2.Write a program to find the fourth root of a number.\n",
    "\n",
    "y=16\n",
    "z=y**(1/4)\n",
    "z"
   ]
  },
  {
   "cell_type": "code",
   "execution_count": 3,
   "metadata": {},
   "outputs": [
    {
     "name": "stdout",
     "output_type": "stream",
     "text": [
      "Enter value of Omega: -8\n",
      "Enter value of Alfha: c\n",
      "The value of Omega after swapping: c\n",
      "The value of Alfha after swapping: -8\n"
     ]
    }
   ],
   "source": [
    "#3.Write a program to swap two numbers in Python with the help of a temporary variable.\n",
    "\n",
    "Omega = -8\n",
    "Alfha = c\n",
    "# To take inputs from the user\n",
    "Omega = input('Enter value of Omega: ')\n",
    "Alfha = input('Enter value of Alfha: ')\n",
    "\n",
    "# create a temporary variable and swap the values\n",
    "temp = Omega\n",
    "Omega = Alfha\n",
    "Alfha = temp\n",
    "\n",
    "print('The value of Omega after swapping: {}'.format(Omega))\n",
    "print('The value of Alfha after swapping: {}'.format(Alfha))"
   ]
  },
  {
   "cell_type": "code",
   "execution_count": 4,
   "metadata": {},
   "outputs": [
    {
     "name": "stdout",
     "output_type": "stream",
     "text": [
      "Enter first number: 22\n",
      "Enter second number: 45\n",
      "Old value of day1 is 22 and day2 is 45\n",
      "New value of day1 is 45 and day2 is 22\n"
     ]
    }
   ],
   "source": [
    "#4. This program swaps two numbers\n",
    "\n",
    "day1 = int(input(\"Enter first number: \"))\n",
    "day2 = int(input(\"Enter second number: \"))\n",
    "\n",
    "print('Old value of day1 is {0} and day2 is {1}'.format(day1, day2))\n",
    "\n",
    "day1 = day1 + day2\n",
    "day2 = day1 - day2\n",
    "day1 = day1 - day2\n",
    "\n",
    "# Display the result\n",
    "print('New value of day1 is {0} and day2 is {1}'.format(day1, day2))"
   ]
  },
  {
   "cell_type": "code",
   "execution_count": 7,
   "metadata": {},
   "outputs": [
    {
     "name": "stdout",
     "output_type": "stream",
     "text": [
      "Enter fahrenheit number: 265.4\n",
      "Temperature in Kelvin ( K ) = 403.167\n"
     ]
    }
   ],
   "source": [
    "#5. Function to convert temperature \n",
    "def Fahrenheit_to_Kelvin(F): \n",
    "    return 273.5 + ((F - 32.0) * (5.0/9.0)) \n",
    "  \n",
    "# Driver function \n",
    "F = float(input(\"Enter fahrenheit number: \"))\n",
    "print(\"Temperature in Kelvin ( K ) = {:.3f}\" \n",
    "            .format(Fahrenheit_to_Kelvin( F ))) \n"
   ]
  },
  {
   "cell_type": "code",
   "execution_count": 8,
   "metadata": {},
   "outputs": [
    {
     "name": "stdout",
     "output_type": "stream",
     "text": [
      "<class 'list'>\n",
      "<class 'int'>\n",
      "<class 'complex'>\n",
      "<class 'int'>\n",
      "<class 'range'>\n",
      "<class 'bool'>\n"
     ]
    }
   ],
   "source": [
    "a=10\n",
    "b= 2+4j\n",
    "c=\"Akshay is learning\"\n",
    "d= [a, b, c]\n",
    "z= range(1,8)\n",
    "A= 85\n",
    "u= a<A\n",
    "print(type(d))\n",
    "print(type(a))\n",
    "print(type(b))\n",
    "print(type(a))\n",
    "print(type(z))\n",
    "print(type(u))"
   ]
  },
  {
   "cell_type": "markdown",
   "metadata": {},
   "source": [
    "#7.Write a program to demonstrate all the available data types in Python. Hint: Use type() function.\n",
    "\n",
    "\n",
    "Steps to submit Assignments?\n",
    "\n",
    "Create a Github public repo and name it LetsUpgrade AI/ML\n",
    "Upload the files/solution in the repo in day wise manner.\n",
    "Copy the URL of the Folder of that day and paste in the Assignment Submission Form (Google Form)\n",
    "Make sure you are filling correct details in the Assignment Submission Form.\n",
    "All the drop-downs will be available till the week end only. i.e Previous weeks drop-down will disappear on each Sunday 11:59 PM\n",
    "You have to submit all the assignment given during the weekdays by respective SUNDAY 11:59 PM IST.\n",
    "🏷 Assignments will be uploaded by LetsUpgrade Team by end of the day of the session."
   ]
  },
  {
   "cell_type": "code",
   "execution_count": null,
   "metadata": {},
   "outputs": [],
   "source": []
  },
  {
   "cell_type": "code",
   "execution_count": null,
   "metadata": {},
   "outputs": [],
   "source": []
  }
 ],
 "metadata": {
  "kernelspec": {
   "display_name": "Python 3",
   "language": "python",
   "name": "python3"
  },
  "language_info": {
   "codemirror_mode": {
    "name": "ipython",
    "version": 3
   },
   "file_extension": ".py",
   "mimetype": "text/x-python",
   "name": "python",
   "nbconvert_exporter": "python",
   "pygments_lexer": "ipython3",
   "version": "3.7.4"
  }
 },
 "nbformat": 4,
 "nbformat_minor": 2
}
