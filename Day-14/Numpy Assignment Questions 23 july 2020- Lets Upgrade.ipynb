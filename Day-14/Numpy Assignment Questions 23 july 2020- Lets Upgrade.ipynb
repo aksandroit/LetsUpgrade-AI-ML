{
 "cells": [
  {
   "cell_type": "markdown",
   "metadata": {},
   "source": [
    "# 1. Create a 3x3x3 array with random values "
   ]
  },
  {
   "cell_type": "code",
   "execution_count": 1,
   "metadata": {},
   "outputs": [
    {
     "data": {
      "text/plain": [
       "array([0.74590883, 0.67352649, 0.74041606])"
      ]
     },
     "execution_count": 1,
     "metadata": {},
     "output_type": "execute_result"
    }
   ],
   "source": [
    "import numpy as np\n",
    "#introducing new varibale\n",
    "axs = np.random.random(3) # 3x1 array\n",
    "axs"
   ]
  },
  {
   "cell_type": "code",
   "execution_count": 2,
   "metadata": {},
   "outputs": [
    {
     "data": {
      "text/plain": [
       "array([[[0.51620427, 0.20221797, 0.48849233],\n",
       "        [0.18672818, 0.80848263, 0.36102601],\n",
       "        [0.38181588, 0.0214566 , 0.23039032]],\n",
       "\n",
       "       [[0.73901447, 0.05316824, 0.88093577],\n",
       "        [0.14413619, 0.56407281, 0.64492791],\n",
       "        [0.5607791 , 0.63982515, 0.125154  ]],\n",
       "\n",
       "       [[0.7921362 , 0.78372728, 0.66384871],\n",
       "        [0.00846756, 0.98541674, 0.45039661],\n",
       "        [0.06579816, 0.74855458, 0.75603938]]])"
      ]
     },
     "execution_count": 2,
     "metadata": {},
     "output_type": "execute_result"
    }
   ],
   "source": [
    "axs = np.random.random((3,3,3)) #3x3 array is used.\n",
    "axs"
   ]
  },
  {
   "cell_type": "markdown",
   "metadata": {},
   "source": [
    "# 2.Create a 5x5 matrix with values 1,2,3,4 just below the diagonal"
   ]
  },
  {
   "cell_type": "code",
   "execution_count": 3,
   "metadata": {},
   "outputs": [
    {
     "data": {
      "text/plain": [
       "array([[[[[0.59092361, 0.82126351, 0.27922178, 0.30634566, 0.95977422],\n",
       "          [0.24093274, 0.96937338, 0.86934242, 0.64988278, 0.46650676],\n",
       "          [0.60604586, 0.8270585 , 0.09923959, 0.8257367 , 0.68212383],\n",
       "          [0.4568567 , 0.27618636, 0.97677129, 0.85832342, 0.77057634]],\n",
       "\n",
       "         [[0.67758851, 0.79262442, 0.59009507, 0.60764103, 0.77825274],\n",
       "          [0.9120008 , 0.86596064, 0.4992585 , 0.88176264, 0.0077015 ],\n",
       "          [0.8134523 , 0.45789471, 0.07772325, 0.51835216, 0.01836187],\n",
       "          [0.33679941, 0.36275522, 0.67586532, 0.79173205, 0.70322909]],\n",
       "\n",
       "         [[0.32266253, 0.32381583, 0.44155011, 0.68619768, 0.35849849],\n",
       "          [0.98166492, 0.23120411, 0.04254949, 0.17913004, 0.40212308],\n",
       "          [0.54424842, 0.01193366, 0.38716236, 0.26497675, 0.11686374],\n",
       "          [0.0935296 , 0.61074097, 0.22114333, 0.43029082, 0.75232921]]],\n",
       "\n",
       "\n",
       "        [[[0.770908  , 0.06868061, 0.85326698, 0.36324977, 0.90737359],\n",
       "          [0.09415034, 0.96195667, 0.6669432 , 0.22968896, 0.62829689],\n",
       "          [0.99393214, 0.84523741, 0.44396827, 0.38528985, 0.75964493],\n",
       "          [0.46983588, 0.5444037 , 0.15795825, 0.99995368, 0.83295799]],\n",
       "\n",
       "         [[0.89327764, 0.82319943, 0.54437432, 0.90588606, 0.18224719],\n",
       "          [0.32321576, 0.53512484, 0.70195758, 0.12268008, 0.74112417],\n",
       "          [0.43817884, 0.28960353, 0.74617327, 0.21171464, 0.4224198 ],\n",
       "          [0.86567662, 0.31686574, 0.3319835 , 0.50378176, 0.8537796 ]],\n",
       "\n",
       "         [[0.54355078, 0.94429057, 0.51180841, 0.45495713, 0.92360864],\n",
       "          [0.92236134, 0.34281796, 0.06324179, 0.19932668, 0.22181339],\n",
       "          [0.37515443, 0.28955737, 0.26782988, 0.37052788, 0.74638094],\n",
       "          [0.45813711, 0.76229251, 0.74352566, 0.80766889, 0.19947389]]]]])"
      ]
     },
     "execution_count": 3,
     "metadata": {},
     "output_type": "execute_result"
    }
   ],
   "source": [
    "#first will creat array, of 5x5:\n",
    "axs= np.random.random((1,2,3,4,5))\n",
    "axs"
   ]
  },
  {
   "cell_type": "code",
   "execution_count": 4,
   "metadata": {},
   "outputs": [
    {
     "data": {
      "text/plain": [
       "array([[1, 0, 0, 0],\n",
       "       [0, 2, 0, 0],\n",
       "       [0, 0, 4, 0],\n",
       "       [0, 0, 0, 5]])"
      ]
     },
     "execution_count": 4,
     "metadata": {},
     "output_type": "execute_result"
    }
   ],
   "source": [
    "#now will creat 5x5 random matric , active on main diagonal only\n",
    "aks0 = (1,2,4,5)\n",
    "aks= np.diag((aks0))\n",
    "aks"
   ]
  },
  {
   "cell_type": "markdown",
   "metadata": {},
   "source": [
    "# 3.Create a 8x8 matrix and fill it with a checkerboard pattern"
   ]
  },
  {
   "cell_type": "code",
   "execution_count": 5,
   "metadata": {},
   "outputs": [
    {
     "name": "stdout",
     "output_type": "stream",
     "text": [
      "Checkerboard pattern:\n",
      "[[0 1 0 1 0 1 0 1]\n",
      " [1 0 1 0 1 0 1 0]\n",
      " [0 1 0 1 0 1 0 1]\n",
      " [1 0 1 0 1 0 1 0]\n",
      " [0 1 0 1 0 1 0 1]\n",
      " [1 0 1 0 1 0 1 0]\n",
      " [0 1 0 1 0 1 0 1]\n",
      " [1 0 1 0 1 0 1 0]]\n"
     ]
    }
   ],
   "source": [
    "\n",
    "x = np.ones((8,8))\n",
    "print(\"Checkerboard pattern:\")\n",
    "x = np.zeros((8,8),dtype=int) #performing row wise.\n",
    "x[1::2,::2] = 1\n",
    "x[::2,1::2] = 1\n",
    "print(x)"
   ]
  },
  {
   "cell_type": "markdown",
   "metadata": {},
   "source": [
    "# 4. Normalize a 5x5 random matrix"
   ]
  },
  {
   "cell_type": "markdown",
   "metadata": {},
   "source": [
    "The term “normalization” refers to the scaling down of the data set such that the normalized data falls in the range between 0 and 1. Such normalization techniques help in comparing corresponding normalized values from two or more different data sets in a way that it eliminates the effects of the variation in the scale of the data sets i.e. a data set with large values can be easily compared with a data set of smaller values.\n",
    "\n",
    "#ONly magnitueds changes, ot direction:\n",
    "Any vector, when normalized, only changes its magnitude, not its direction. Also, every vector pointing in the same direction, gets normalized to the same vector (since magnitude and direction uniquely define a vector). Hence, unit vectors are extremely useful for providing directions."
   ]
  },
  {
   "cell_type": "code",
   "execution_count": 6,
   "metadata": {},
   "outputs": [
    {
     "name": "stdout",
     "output_type": "stream",
     "text": [
      "[[0.71384262 0.43731197 0.01476699 0.66156979 0.40829659]\n",
      " [0.68721732 0.17795219 0.69167188 0.75734987 0.13726389]\n",
      " [0.19863764 0.69248104 0.98654127 0.91162284 0.87192784]\n",
      " [0.01017144 0.83871307 0.73607272 0.32040621 0.19600881]\n",
      " [0.85107741 0.2784346  0.29050155 0.7939252  0.0396422 ]]\n"
     ]
    }
   ],
   "source": [
    "#making a matrix\n",
    "x=np.random.random((5,5))\n",
    "print(x)\n"
   ]
  },
  {
   "cell_type": "code",
   "execution_count": 7,
   "metadata": {},
   "outputs": [
    {
     "name": "stdout",
     "output_type": "stream",
     "text": [
      "After normalization:\n",
      "[[0.72070148 0.43747821 0.00470677 0.66716354 0.40776061]\n",
      " [0.69343179 0.17184139 0.69799416 0.76526169 0.13016836]\n",
      " [0.19302747 0.6988229  1.         0.92326839 0.88261269]\n",
      " [0.         0.84859406 0.7434696  0.3177431  0.19033503]\n",
      " [0.86125763 0.27475569 0.28711468 0.80272223 0.03018402]]\n"
     ]
    }
   ],
   "source": [
    "#we nee more terms, for peroper normalization \n",
    "# FINDING max & min and range, : xmax, xmin = x.max(), x.min()\n",
    "#x = (x - xmin)/(xmax - xmin)\n",
    "xmax, xmin = x.max(), x.min()\n",
    "x = (x - xmin)/(xmax - xmin)\n",
    "print(\"After normalization:\")\n",
    "print(x)"
   ]
  },
  {
   "cell_type": "code",
   "execution_count": 8,
   "metadata": {},
   "outputs": [
    {
     "name": "stdout",
     "output_type": "stream",
     "text": [
      "Original Array:\n",
      "[[0.55590344 0.31984161 0.94290213]\n",
      " [0.26465522 0.48768786 0.88544971]\n",
      " [0.26116153 0.90795048 0.54875686]]\n",
      "After normalization:\n",
      "[[0.43233733 0.08607392 1.        ]\n",
      " [0.00512467 0.33227643 0.91572686]\n",
      " [0.         0.94873175 0.42185449]]\n"
     ]
    }
   ],
   "source": [
    "\n",
    "x= np.random.random((3,3))\n",
    "print(\"Original Array:\")\n",
    "print(x)\n",
    "xmax, xmin = x.max(), x.min()\n",
    "x = (x - xmin)/(xmax - xmin)\n",
    "print(\"After normalization:\")\n",
    "print(x)"
   ]
  },
  {
   "cell_type": "code",
   "execution_count": null,
   "metadata": {},
   "outputs": [],
   "source": []
  },
  {
   "cell_type": "markdown",
   "metadata": {},
   "source": [
    "# 5.  How to find common values between two arrays?"
   ]
  },
  {
   "cell_type": "code",
   "execution_count": 9,
   "metadata": {},
   "outputs": [],
   "source": [
    "# making two arrays, of different length, and try t o find the same"
   ]
  },
  {
   "cell_type": "code",
   "execution_count": 10,
   "metadata": {},
   "outputs": [
    {
     "name": "stdout",
     "output_type": "stream",
     "text": [
      "Array1:  [ -1  49 320   8  12]\n",
      "Array2:  [12, 30, -1]\n",
      "Common values between two arrays:\n",
      "[-1 12]\n"
     ]
    }
   ],
   "source": [
    "#introducing arr1 , arr2\n",
    "arr1 = np.array([-1, 49, 320, 8, 12]) #introducing arry\n",
    "print(\"Array1: \",arr1)\n",
    "arr2 = [12, 30, -1] #introducing second array\n",
    "print(\"Array2: \",arr2)\n",
    "print(\"Common values between two arrays:\")\n",
    "print(np.intersect1d(arr1, arr2))"
   ]
  },
  {
   "cell_type": "markdown",
   "metadata": {},
   "source": [
    "# 6.How to get the dates of yesterday, today and tomorrow?"
   ]
  },
  {
   "cell_type": "markdown",
   "metadata": {},
   "source": [
    "introducing variales, for all dates"
   ]
  },
  {
   "cell_type": "code",
   "execution_count": 11,
   "metadata": {},
   "outputs": [
    {
     "name": "stdout",
     "output_type": "stream",
     "text": [
      "Today:  2020-08-03\n",
      "Yestraday:  2020-08-02\n"
     ]
    }
   ],
   "source": [
    "#yst =yesterday, Tdy: today, Ftr: future\n",
    "Tdy = np.datetime64('today', 'D')\n",
    "yst = np.datetime64('today', 'D') - np.timedelta64(1, 'D')\n",
    "print(\"Today: \", Tdy)\n",
    "print(\"Yestraday: \",yst)\n"
   ]
  },
  {
   "cell_type": "code",
   "execution_count": 12,
   "metadata": {},
   "outputs": [
    {
     "name": "stdout",
     "output_type": "stream",
     "text": [
      "Tomorrow:  2020-08-04\n"
     ]
    }
   ],
   "source": [
    "#similar with tommarow: tmr\n",
    "tmr  = np.datetime64('today', 'D') + np.timedelta64(1, 'D')\n",
    "print(\"Tomorrow: \",tmr)"
   ]
  },
  {
   "cell_type": "markdown",
   "metadata": {},
   "source": [
    "# 7. Consider two random array A and B, check if they are equal"
   ]
  },
  {
   "cell_type": "code",
   "execution_count": 13,
   "metadata": {},
   "outputs": [
    {
     "name": "stdout",
     "output_type": "stream",
     "text": [
      "First array:\n",
      "[3 3 3 3 3 3]\n",
      "Second array:\n",
      "[1 0 1 0 1 0]\n",
      "Checking above two arrays are equal or not!\n",
      "False\n"
     ]
    }
   ],
   "source": [
    "# x= variables , \n",
    "x = np.random.randint(1,5,6)\n",
    "print(\"First array:\")\n",
    "print(x)\n",
    "y = np.random.randint(0,2,6)\n",
    "print(\"Second array:\")\n",
    "print(y)\n",
    "print(\"Checking above two arrays are equal or not!\") #return will be boolean.\n",
    "array_equal = np.allclose(x, y)\n",
    "print(array_equal)"
   ]
  },
  {
   "cell_type": "code",
   "execution_count": null,
   "metadata": {},
   "outputs": [],
   "source": []
  },
  {
   "cell_type": "markdown",
   "metadata": {},
   "source": [
    "# 8.Create random vector of size 10 and replace the maximum value by 0 "
   ]
  },
  {
   "cell_type": "code",
   "execution_count": 14,
   "metadata": {},
   "outputs": [
    {
     "name": "stdout",
     "output_type": "stream",
     "text": [
      "[  2  54   7   4 -18   0 100  23   1   9]\n",
      "Max element from Numpy Array :  100\n",
      "Min element from Numpy Array : -18\n",
      "Maximum value replaced by -1:\n",
      "[  2  54   7   4 -18   0  -1  23   1   9]\n",
      "Min value replaced by 5000:\n",
      "[   2   54    7    4 5000    0   -1   23    1    9]\n"
     ]
    }
   ],
   "source": [
    "#making random array, for vector size10\n",
    "\n",
    "a= np.array([2,54,7,4,-18,0,100,23,1,9])\n",
    "print(a)\n",
    "# Get the maximum element from a Numpy array\n",
    "maxElement = np.amax(a)\n",
    "minElement = np.amin(a)\n",
    "print('Max element from Numpy Array : ', maxElement)\n",
    "print('Min element from Numpy Array :', minElement)\n",
    "a[a.argmax()] = -1\n",
    "print(\"Maximum value replaced by -1:\")\n",
    "print(a)\n",
    "a[a.argmin()] = 5000\n",
    "print(\"Min value replaced by 5000:\")\n",
    "print(a)"
   ]
  },
  {
   "cell_type": "markdown",
   "metadata": {},
   "source": [
    "# 9. How to print all the values of an array? "
   ]
  },
  {
   "cell_type": "code",
   "execution_count": 15,
   "metadata": {},
   "outputs": [
    {
     "data": {
      "text/plain": [
       "[[0, 1, 2, 3],\n",
       " [4, 5, 6, 7],\n",
       " [8, 9, 10, 11],\n",
       " [12, 13, 14, 15],\n",
       " [16, 17, 18, 19],\n",
       " [20, 21, 22, 23],\n",
       " [24, 25, 26, 27],\n",
       " [28, 29, 30, 31],\n",
       " [32, 33, 34, 35],\n",
       " [36, 37, 38, 39],\n",
       " [40, 41, 42, 43],\n",
       " [44, 45, 46, 47],\n",
       " [48, 49, 50, 51],\n",
       " [52, 53, 54, 55],\n",
       " [56, 57, 58, 59],\n",
       " [60, 61, 62, 63],\n",
       " [64, 65, 66, 67],\n",
       " [68, 69, 70, 71],\n",
       " [72, 73, 74, 75],\n",
       " [76, 77, 78, 79],\n",
       " [80, 81, 82, 83],\n",
       " [84, 85, 86, 87],\n",
       " [88, 89, 90, 91],\n",
       " [92, 93, 94, 95],\n",
       " [96, 97, 98, 99]]"
      ]
     },
     "execution_count": 15,
     "metadata": {},
     "output_type": "execute_result"
    }
   ],
   "source": [
    "import numpy as np\n",
    "np.arange(100).reshape(25,4).tolist()"
   ]
  },
  {
   "cell_type": "code",
   "execution_count": null,
   "metadata": {},
   "outputs": [],
   "source": []
  },
  {
   "cell_type": "markdown",
   "metadata": {},
   "source": [
    "# 10.Subtract the mean of each row of a matrix"
   ]
  },
  {
   "cell_type": "code",
   "execution_count": 16,
   "metadata": {},
   "outputs": [
    {
     "name": "stdout",
     "output_type": "stream",
     "text": [
      "Original matrix:\n",
      "\n",
      "[[0.81263339 0.16900989 0.66853366 0.05033383 0.03434857 0.89674358\n",
      "  0.93386086 0.86286925 0.29579359 0.79235713]\n",
      " [0.22862252 0.65745408 0.41501514 0.77710157 0.72381843 0.45797111\n",
      "  0.70453433 0.75004543 0.86292717 0.61765647]\n",
      " [0.0466524  0.67491208 0.62616038 0.43141467 0.95248646 0.59214658\n",
      "  0.93605678 0.02617347 0.75372585 0.75081628]\n",
      " [0.91130058 0.15569806 0.90253887 0.84748909 0.44794227 0.65297345\n",
      "  0.36387127 0.79444272 0.24473426 0.37997127]\n",
      " [0.65806267 0.82861164 0.67058747 0.92301564 0.12377448 0.42423038\n",
      "  0.49817851 0.3884579  0.75668719 0.69790656]]\n",
      "\n",
      "Subtract the mean of each row of the said matrix:\n",
      "\n",
      "[[ 0.26098502 -0.38263848  0.11688529 -0.50131454 -0.51729981  0.34509521\n",
      "   0.38221248  0.31122087 -0.25585479  0.24070876]\n",
      " [-0.3908921   0.03793946 -0.20449949  0.15758694  0.10430381 -0.16154352\n",
      "   0.0850197   0.13053081  0.24341255 -0.00185816]\n",
      " [-0.5324021   0.09585759  0.04710589 -0.14763983  0.37343197  0.01309208\n",
      "   0.35700229 -0.55288103  0.17467135  0.17176179]\n",
      " [ 0.3412044  -0.41439812  0.33244268  0.2773929  -0.12215391  0.08287727\n",
      "  -0.20622491  0.22434654 -0.32536192 -0.19012492]\n",
      " [ 0.06111143  0.23166039  0.07363623  0.3260644  -0.47317676 -0.17272086\n",
      "  -0.09877273 -0.20849334  0.15973594  0.10095532]]\n"
     ]
    }
   ],
   "source": [
    "\n",
    "print(\"Original matrix:\\n\")\n",
    "X = np.random.rand(5, 10)\n",
    "print(X)\n",
    "print(\"\\nSubtract the mean of each row of the said matrix:\\n\")\n",
    "Y = X - X.mean(axis=1, keepdims=True)\n",
    "print(Y)"
   ]
  },
  {
   "cell_type": "code",
   "execution_count": 17,
   "metadata": {},
   "outputs": [
    {
     "name": "stdout",
     "output_type": "stream",
     "text": [
      "Original matrix:\n",
      "\n",
      "[[0.09857395 0.17928798 0.46657428 0.25745957 0.87208977 0.95684081\n",
      "  0.73927469 0.82667201 0.6625079  0.64315205]\n",
      " [0.60015534 0.68165198 0.89793778 0.89371338 0.77407767 0.79747298\n",
      "  0.71555817 0.4121481  0.87307265 0.42557588]\n",
      " [0.22959039 0.42941276 0.67652392 0.5316303  0.03572011 0.04354176\n",
      "  0.38521841 0.01957475 0.50943998 0.87359098]\n",
      " [0.53860106 0.10987234 0.21709803 0.64905373 0.27832109 0.2514905\n",
      "  0.93575139 0.58421343 0.13019312 0.31777481]\n",
      " [0.92230766 0.34357875 0.97781363 0.98350985 0.73299087 0.22558667\n",
      "  0.71427888 0.92881498 0.28400979 0.89421509]]\n",
      "\n",
      "Subtract the mean of each row of the said matrix:\n",
      "\n",
      "[[-0.47166935 -0.39095532 -0.10366902 -0.31278373  0.30184647  0.38659751\n",
      "   0.16903139  0.25642871  0.0922646   0.07290875]\n",
      " [-0.10698106 -0.02548441  0.19080139  0.18657699  0.06694128  0.09033659\n",
      "   0.00842178 -0.2949883   0.16593625 -0.28156051]\n",
      " [-0.14383395  0.05598843  0.30309959  0.15820597 -0.33770423 -0.32988258\n",
      "   0.01179408 -0.35384958  0.13601564  0.50016664]\n",
      " [ 0.13736411 -0.29136461 -0.18413892  0.24781678 -0.12291586 -0.14974646\n",
      "   0.53451444  0.18297648 -0.27104383 -0.08346214]\n",
      " [ 0.22159704 -0.35713186  0.27710302  0.28279923  0.03228026 -0.47512395\n",
      "   0.01356826  0.22810436 -0.41670083  0.19350447]]\n"
     ]
    }
   ],
   "source": [
    "\n",
    "print(\"Original matrix:\\n\")\n",
    "X = np.random.rand(5, 10)\n",
    "print(X)\n",
    "print(\"\\nSubtract the mean of each row of the said matrix:\\n\")\n",
    "Y = X - X.mean(axis=-1, keepdims=True)\n",
    "print(Y)"
   ]
  },
  {
   "cell_type": "markdown",
   "metadata": {},
   "source": [
    "# 11.Consider a given vector, how to add 1 to each element indexed by a second vector (be careful with repeated indices)? "
   ]
  },
  {
   "cell_type": "code",
   "execution_count": 18,
   "metadata": {
    "scrolled": false
   },
   "outputs": [
    {
     "data": {
      "text/plain": [
       "array([3., 4., 2., 4., 2.])"
      ]
     },
     "execution_count": 18,
     "metadata": {},
     "output_type": "execute_result"
    }
   ],
   "source": [
    "import numpy as np\n",
    "arr1= np.ones(5)\n",
    "arr2= np.random.randint(0, len(arr1), 10)\n",
    "arr1+=np.bincount(arr2,minlength=len(arr1))\n",
    "arr1"
   ]
  },
  {
   "cell_type": "markdown",
   "metadata": {},
   "source": [
    "# 12.How to get the diagonal of a dot product?"
   ]
  },
  {
   "cell_type": "code",
   "execution_count": 23,
   "metadata": {},
   "outputs": [
    {
     "name": "stdout",
     "output_type": "stream",
     "text": [
      "[2 4 9]\n",
      "[2 0 8]\n",
      "76\n"
     ]
    }
   ],
   "source": [
    "a=np.array([2,4,9])\n",
    "b= np.array([2,0,8])\n",
    "print(a)\n",
    "print(b)\n",
    "print(np.dot(a,b))"
   ]
  },
  {
   "cell_type": "code",
   "execution_count": null,
   "metadata": {},
   "outputs": [],
   "source": []
  },
  {
   "cell_type": "markdown",
   "metadata": {},
   "source": [
    "# 13.How to find the most frequent value in an array?"
   ]
  },
  {
   "cell_type": "code",
   "execution_count": 20,
   "metadata": {},
   "outputs": [
    {
     "name": "stdout",
     "output_type": "stream",
     "text": [
      "Original array:\n",
      "[4 0 3 4 7 5 9 0 2 6 6 3 2 7 2 5 6 7 5 2 8 6 7 0 8 3 3 7 0 2 4 0 0 0 8 3 8\n",
      " 3 4 2]\n",
      "Most frequent value in the above array:\n",
      "0\n"
     ]
    }
   ],
   "source": [
    "import numpy as np\n",
    "x = np.random.randint(0, 10, 40)\n",
    "print(\"Original array:\")\n",
    "print(x)\n",
    "print(\"Most frequent value in the above array:\")\n",
    "print(np.bincount(x).argmax())"
   ]
  },
  {
   "cell_type": "markdown",
   "metadata": {},
   "source": [
    "# 14.How to get the n largest values of an array"
   ]
  },
  {
   "cell_type": "code",
   "execution_count": 21,
   "metadata": {},
   "outputs": [
    {
     "name": "stdout",
     "output_type": "stream",
     "text": [
      "Original array:\n",
      "[0 1 2 3 4 5 6 7 8 9]\n",
      "[9]\n"
     ]
    }
   ],
   "source": [
    "import numpy as np\n",
    "x = np.arange(10)\n",
    "print(\"Original array:\")\n",
    "print(x)\n",
    "np.random.shuffle(x)\n",
    "n = 1\n",
    "print (x[np.argsort(x)[-n:]])"
   ]
  },
  {
   "cell_type": "markdown",
   "metadata": {},
   "source": [
    "# 15.How to create a record array from a regular array?"
   ]
  },
  {
   "cell_type": "code",
   "execution_count": 22,
   "metadata": {},
   "outputs": [
    {
     "name": "stdout",
     "output_type": "stream",
     "text": [
      "(1, 'Red', 12.2)\n",
      "(2, 'Green', 15.)\n",
      "(3, 'White', 20.)\n"
     ]
    }
   ],
   "source": [
    "import numpy as np\n",
    "a1=np.array([1,2,3,4])\n",
    "a2=np.array(['Red','Green','White','Orange'])\n",
    "a3=np.array([12.20,15,20,40])\n",
    "result= np.core.records.fromarrays([a1, a2, a3],names='a,b,c')\n",
    "print(result[0])\n",
    "print(result[1])\n",
    "print(result[2])"
   ]
  },
  {
   "cell_type": "code",
   "execution_count": null,
   "metadata": {},
   "outputs": [],
   "source": []
  }
 ],
 "metadata": {
  "kernelspec": {
   "display_name": "Python 3",
   "language": "python",
   "name": "python3"
  },
  "language_info": {
   "codemirror_mode": {
    "name": "ipython",
    "version": 3
   },
   "file_extension": ".py",
   "mimetype": "text/x-python",
   "name": "python",
   "nbconvert_exporter": "python",
   "pygments_lexer": "ipython3",
   "version": "3.7.4"
  }
 },
 "nbformat": 4,
 "nbformat_minor": 2
}
