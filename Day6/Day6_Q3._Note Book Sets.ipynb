{
 "cells": [
  {
   "cell_type": "markdown",
   "metadata": {},
   "source": [
    "# Creating differents example for sets:\n"
   ]
  },
  {
   "cell_type": "code",
   "execution_count": 1,
   "metadata": {},
   "outputs": [
    {
     "name": "stdout",
     "output_type": "stream",
     "text": [
      "{1, 2, 3}\n",
      "{1.0, 'Hello', (1, 2, 3)}\n"
     ]
    }
   ],
   "source": [
    "#EX1: Creating different kind of sets::\n",
    "\n",
    "# set of integers\n",
    "S = {1, 2, 3}\n",
    "print(S)\n",
    "\n",
    "# set of mixed datatypes\n",
    "s1 = {1.0, \"Hello\", (1, 2, 3)}\n",
    "print(s1)"
   ]
  },
  {
   "cell_type": "code",
   "execution_count": 5,
   "metadata": {
    "scrolled": true
   },
   "outputs": [
    {
     "name": "stdout",
     "output_type": "stream",
     "text": [
      "The given  {1, 2, 3}  string is a Ex2.\n",
      "The given  {1, 2, 3}  string is a Ex2.1.\n"
     ]
    },
    {
     "ename": "TypeError",
     "evalue": "unhashable type: 'list'",
     "output_type": "error",
     "traceback": [
      "\u001b[1;31m---------------------------------------------------------------------------\u001b[0m",
      "\u001b[1;31mTypeError\u001b[0m                                 Traceback (most recent call last)",
      "\u001b[1;32m<ipython-input-5-0e9ef83d0196>\u001b[0m in \u001b[0;36m<module>\u001b[1;34m\u001b[0m\n\u001b[0;32m     11\u001b[0m \u001b[1;31m# set cannot have mutable items, [3, 4] is a mutable list, this will cause an error.\u001b[0m\u001b[1;33m\u001b[0m\u001b[1;33m\u001b[0m\u001b[1;33m\u001b[0m\u001b[0m\n\u001b[0;32m     12\u001b[0m \u001b[1;33m\u001b[0m\u001b[0m\n\u001b[1;32m---> 13\u001b[1;33m \u001b[0ms2\u001b[0m \u001b[1;33m=\u001b[0m \u001b[1;33m{\u001b[0m\u001b[1;36m1\u001b[0m\u001b[1;33m,\u001b[0m \u001b[1;36m2\u001b[0m\u001b[1;33m,\u001b[0m \u001b[1;33m[\u001b[0m\u001b[1;36m3\u001b[0m\u001b[1;33m,\u001b[0m \u001b[1;36m4\u001b[0m\u001b[1;33m]\u001b[0m\u001b[1;33m}\u001b[0m \u001b[1;31m#can't\u001b[0m\u001b[1;33m\u001b[0m\u001b[1;33m\u001b[0m\u001b[0m\n\u001b[0m",
      "\u001b[1;31mTypeError\u001b[0m: unhashable type: 'list'"
     ]
    }
   ],
   "source": [
    "#Ex2 : duplicate sets\n",
    "# Output: {1, 2, 3, 4}\n",
    "s = {1, 2, 3, 4, 3, 2}\n",
    "print(\"The given \",S,\" string is a Ex2.\")\n",
    "\n",
    "# we can make set from a list\n",
    "# Output: {1, 2, 3}\n",
    "s2 = set([1, 2, 3, 2])\n",
    "print(\"The given \",s2,\" string is a Ex2.1.\")\n",
    "\n",
    "# set cannot have mutable items, [3, 4] is a mutable list, this will cause an error.\n",
    "\n",
    "s2 = {1, 2, [3, 4]} #can't "
   ]
  },
  {
   "cell_type": "code",
   "execution_count": 8,
   "metadata": {
    "scrolled": false
   },
   "outputs": [
    {
     "name": "stdout",
     "output_type": "stream",
     "text": [
      "The given  <class 'dict'>  string is a Ex3\n",
      "The given  <class 'set'>  string is a Ex3.1\n"
     ]
    }
   ],
   "source": [
    "#ex3: empty directory\n",
    "#Empty curly braces {} will make an empty dictionary in Python. \n",
    "##To make a set without any elements, we use the set() function without any argument.\n",
    "\n",
    "# Distinguish Ex3 set and dictionary while creating empty set\n",
    "\n",
    "# initialize a with {}\n",
    "s = {}\n",
    "\n",
    "# check data type of a\n",
    "print(\"The given \",type(s),\" string is a Ex3\")\n",
    "\n",
    "# initialize a with set()\n",
    "s = set()\n",
    "\n",
    "# check data type of a\n",
    "print(\"The given \",type(s),\" string is a Ex3.1\")"
   ]
  },
  {
   "cell_type": "code",
   "execution_count": null,
   "metadata": {},
   "outputs": [],
   "source": []
  },
  {
   "cell_type": "markdown",
   "metadata": {},
   "source": [
    "## Modifying a set in python"
   ]
  },
  {
   "cell_type": "markdown",
   "metadata": {},
   "source": [
    "Ex.4.1:\n",
    "Expriment with Mutable set. Indexing wont work:\n",
    "\n",
    "Ex 4.2:\n",
    "We expriment set using indexing or slicing. Set data type does support or not.\n",
    "\n",
    "Ex 4.3:\n",
    "We can add a single element using other functions like : the add() method, and multiple elements using the update() method. The update() method can take tuples, lists, strings or other sets as its argument. In all cases, duplicates are avoided."
   ]
  },
  {
   "cell_type": "code",
   "execution_count": 23,
   "metadata": {},
   "outputs": [
    {
     "name": "stdout",
     "output_type": "stream",
     "text": [
      "{0, -7, -2}\n",
      "{0, -7, 2, -2}\n",
      "{0, -7, 2, -2}\n",
      "{0, 2, -7, (4+7j), -2}\n",
      "{0, 2, 78, -7, (4+7j), -2}\n"
     ]
    }
   ],
   "source": [
    "s4_1 ={0,-2}\n",
    "s4_1\n",
    "s4_1.add(-7) # its adding as per order, lets try with random order!\n",
    "print(s4_1)\n",
    "s4_1.add(2) # its adding as per order, lets try with random order!\n",
    "print(s4_1)\n",
    "s4_1.add(0) # its adding as per randomorder,Multiple number wont add\n",
    "print(s4_1)\n",
    "s4_1.add(4+7j) #adding complex number as per random order, lets try with random order!\n",
    "print(s4_1)\n",
    "s4_1.add(78) # its adding as per order, lets try with random order!\n",
    "print(s4_1)"
   ]
  },
  {
   "cell_type": "code",
   "execution_count": 26,
   "metadata": {},
   "outputs": [
    {
     "name": "stdout",
     "output_type": "stream",
     "text": [
      "{0, 2, 3, 4, 78, -7, (4+7j), -2}\n",
      "{0, 1, 2, 3, 4, 5, 6, 8, 78, -7, (4+7j), -2}\n",
      "{0, 1, 2, 3, 4, 5, 6, 8, 78, 87, -7, (4+7j), -3, -2}\n"
     ]
    }
   ],
   "source": [
    "#ex.4.2 : multiple commands\n",
    "# add multiple elements\n",
    "# Output: {1, 2, 3, 4}\n",
    "s4_2 ={0, 2, 78, -7, (4+7j), -2}\n",
    "\n",
    "s4_2.update([2, 3, 4])\n",
    "print(s4_2) #[2,3,4] used into existing {0,2,_ _ _ 78,-7,(4+7j), -2} , filld into _\n",
    "\n",
    "# add list and set\n",
    "# Output: {1, 2, 3, 4, 5, 6, 8}\n",
    "s4_2.update([4, 5], {1, 6, 8})\n",
    "# now update [4,5]: is using list, {1,6,8}: as truple, 1 wont repeat, , nor 6, \n",
    "print(s4_2)\n",
    "\n",
    "#adding multiple list n truple\n",
    "s4_2.update([-3, 5], [87,3])\n",
    "print(s4_2)\n"
   ]
  },
  {
   "cell_type": "code",
   "execution_count": 27,
   "metadata": {},
   "outputs": [
    {
     "name": "stdout",
     "output_type": "stream",
     "text": [
      "{0, 2, 3, 5, 78, 87, -7, (4+7j), -3, -2}\n"
     ]
    }
   ],
   "source": [
    "s4_2 ={0, 2, 78, -7, (4+7j), -2}\n",
    "s4_2.update([-3, 5], [87,3]) #-3 will go before, -2,87 goes after 78 beofre -7, all order remaing same\n",
    "print(s4_2) #-3 goes just before -2, 5 goes after 2,3"
   ]
  },
  {
   "cell_type": "code",
   "execution_count": 28,
   "metadata": {},
   "outputs": [
    {
     "name": "stdout",
     "output_type": "stream",
     "text": [
      "{0, 1, 2, 5, 107, 78, -9, -7, (4+7j), -2}\n"
     ]
    }
   ],
   "source": [
    "s4_2 ={0, 2, 78, -7, (4+7j), -2}\n",
    "s4_2.update([-3, 5], [7,3]) #-3 will go before, -2,87 goes after 78 beofre -7, all order remaing same\n",
    "print(s4_2) #-3 goes just before -2, 5 goes after 2,3"
   ]
  },
  {
   "cell_type": "code",
   "execution_count": 29,
   "metadata": {},
   "outputs": [
    {
     "name": "stdout",
     "output_type": "stream",
     "text": [
      "{0, 2, (-4-7j), 9, 78, -7, -5, (4+7j), -2}\n"
     ]
    }
   ],
   "source": [
    "s4_2 ={0, 2, 78, -7, (4+7j), -2}\n",
    "s4_2.update([-0, -5], [9,-(4+7j)]) #-3 will go before, -2,87 goes after 78 beofre -7, all order remaing same\n",
    "print(s4_2) #-3 goes just before -2, 5 goes after 2,3"
   ]
  },
  {
   "cell_type": "markdown",
   "metadata": {},
   "source": [
    "## Removing elements from a set"
   ]
  },
  {
   "cell_type": "raw",
   "metadata": {},
   "source": [
    "Experiment on set to removed from a set using the methods discard() and remove().\n",
    "\n",
    "The only difference between the two is that the discard() function leaves a set unchanged if the element is not present in the set. On the other hand, the remove() function will raise an error in such a condition (if element is not present in the set).\n",
    "\n",
    "The following example will illustrate this.# "
   ]
  },
  {
   "cell_type": "code",
   "execution_count": 34,
   "metadata": {},
   "outputs": [
    {
     "name": "stdout",
     "output_type": "stream",
     "text": [
      "{0, 1, 2, 3, 4, 5, 6, 200, (5+3j), -3}\n",
      "{0, 1, 2, 3, 5, 6, 200, (5+3j), -3}\n"
     ]
    }
   ],
   "source": [
    "#ex:5\n",
    "s= {1, 3, 4, 5, 6, 5+3j, -3, 0, 2, 200}\n",
    "print(s)\n",
    "\n",
    "# discard an element\n",
    "# Output: {1, 3, 5, 6}\n",
    "s.discard(4) #discard is acting like concating\n",
    "print(s)\n"
   ]
  },
  {
   "cell_type": "code",
   "execution_count": 35,
   "metadata": {},
   "outputs": [
    {
     "name": "stdout",
     "output_type": "stream",
     "text": [
      "{0, 1, 2, 3, 4, 5, 200, (5+3j), -3}\n"
     ]
    }
   ],
   "source": [
    "s= {1, 3, 4, 5, 6, 5+3j, -3, 0, 2, 200}\n",
    "s.remove(6) # everything remove after index 6,\n",
    "print(s)"
   ]
  },
  {
   "cell_type": "code",
   "execution_count": 41,
   "metadata": {},
   "outputs": [
    {
     "data": {
      "text/plain": [
       "{(5+3j), -3, 0, 2, 200, 3, 4, 5, 6}"
      ]
     },
     "execution_count": 41,
     "metadata": {},
     "output_type": "execute_result"
    }
   ],
   "source": [
    "# discard an element\n",
    "# not present in my_set\n",
    "\n",
    "s= {1, 3, 4, 5, 6, 5+3j, -3, 0, 2, 200}\n",
    "s.discard(1)\n",
    "print(s)"
   ]
  },
  {
   "cell_type": "code",
   "execution_count": 49,
   "metadata": {},
   "outputs": [
    {
     "name": "stdout",
     "output_type": "stream",
     "text": [
      "{0, 1, 2, 3, 4, 6, 200, (5+3j), -3}\n"
     ]
    }
   ],
   "source": [
    "s= {1, 3, 4, 5, 6, 5+3j, -3, 0, 2, 200}\n",
    "\n",
    "s # s= {(5+3j), -3, 0, 1, 2, 200, 3, 4, 5, 6}\n",
    "s.discard(5) # with , -3} \n",
    "## original:s={1, 3, 4, 5, 6, 5+3j, -3, 0, 2, 200}\n",
    "## discard2 : {(5+3j), -3, 0, 2, 200, 3, 4, 5, 6}\n",
    "## discard1 : {0, 2, 3, 4, 5, 6, 200, (5+3j)\n",
    "## discard4 : {0, 1, 2, 3, 5, 6, 200, (5+3j), -3}                            \n",
    "## discard5 : {0, 1, 2, 3, 4, 6, 200, (5+3j), -3}\n",
    "print(s) # new s4 = {0, 2, 3, 4, 5, 6, 200, (5+3j), -3}\n"
   ]
  },
  {
   "cell_type": "code",
   "execution_count": 58,
   "metadata": {},
   "outputs": [
    {
     "name": "stdout",
     "output_type": "stream",
     "text": [
      "{0, 1, 2, 3, 4, 5, 200, (5+3j), -3}\n"
     ]
    }
   ],
   "source": [
    "s= {1, 3, 4, 5, 6, 5+3j, -3, 0, 2, 200}\n",
    "s.remove(6)\n",
    "print(s)"
   ]
  },
  {
   "cell_type": "code",
   "execution_count": 65,
   "metadata": {},
   "outputs": [
    {
     "name": "stdout",
     "output_type": "stream",
     "text": [
      "{'d', 'r', 's', 'a', 'o', 'e', 'L', 'n', 'g', ' ', 'i'}\n",
      "d\n",
      "{'s', 'a', 'o', 'e', 'L', 'n', 'g', ' ', 'i'}\n",
      "set()\n"
     ]
    }
   ],
   "source": [
    "#ex5:\n",
    "# initialize my_set\n",
    "# Output: set of unique elements\n",
    "s = set(\"Learning is good\")\n",
    "print(s)\n",
    "# pop an element\n",
    "# Output: random element\n",
    "print(s.pop())\n",
    "\n",
    "# pop another element\n",
    "s.pop()\n",
    "print(s)\n",
    "\n",
    "# clear my_set\n",
    "# Output: set()\n",
    "s = set(\"Learning is good\")\n",
    "s.clear()\n",
    "print(s)"
   ]
  },
  {
   "cell_type": "raw",
   "metadata": {},
   "source": [
    "Similarly, we can remove and return an item using the pop() method.\n",
    "\n",
    "Since set is an unordered data type, there is no way of determining which item will be popped. It is completely arbitrary.\n",
    "\n",
    "We can also remove all the items from a set using the clear() method."
   ]
  },
  {
   "cell_type": "markdown",
   "metadata": {},
   "source": [
    "# Python Set Operations"
   ]
  },
  {
   "cell_type": "markdown",
   "metadata": {},
   "source": [
    "\n",
    "Sets can be used to carry out mathematical set operations like union, intersection, difference and symmetric difference. We can do this with operators or methods.\n",
    "\n",
    "Let us consider the following two sets for the following operations."
   ]
  },
  {
   "cell_type": "raw",
   "metadata": {},
   "source": [
    "Union of A and B is a set of all elements from both sets.\n",
    "\n",
    "Union is performed using | operator. Same can be accomplished using the union() method."
   ]
  },
  {
   "cell_type": "code",
   "execution_count": 67,
   "metadata": {},
   "outputs": [
    {
     "name": "stdout",
     "output_type": "stream",
     "text": [
      "{1, 2, 3, 4, 5, 6, 7, 8}\n"
     ]
    }
   ],
   "source": [
    "# Set union method\n",
    "# initialize A and B\n",
    "x = {1, 2, 3, 4, 5}\n",
    "y = {4, 5, 6, 7, 8}\n",
    "\n",
    "# Using | operator\n",
    "# Output: {1, 2, 3, 4, 5, 6, 7, 8}\n",
    "x\n",
    "y\n",
    "print(x| y)"
   ]
  },
  {
   "cell_type": "code",
   "execution_count": 68,
   "metadata": {},
   "outputs": [
    {
     "name": "stdout",
     "output_type": "stream",
     "text": [
      "{4, 5}\n"
     ]
    }
   ],
   "source": [
    "# Intersection of sets\n",
    "# initialize A and B\n",
    "A = {1, 2, 3, 4, 5}\n",
    "B = {4, 5, 6, 7, 8}\n",
    "\n",
    "# use & operator\n",
    "# Output: {4, 5}\n",
    "print(A & B)"
   ]
  }
 ],
 "metadata": {
  "kernelspec": {
   "display_name": "Python 3",
   "language": "python",
   "name": "python3"
  },
  "language_info": {
   "codemirror_mode": {
    "name": "ipython",
    "version": 3
   },
   "file_extension": ".py",
   "mimetype": "text/x-python",
   "name": "python",
   "nbconvert_exporter": "python",
   "pygments_lexer": "ipython3",
   "version": "3.7.4"
  }
 },
 "nbformat": 4,
 "nbformat_minor": 2
}
