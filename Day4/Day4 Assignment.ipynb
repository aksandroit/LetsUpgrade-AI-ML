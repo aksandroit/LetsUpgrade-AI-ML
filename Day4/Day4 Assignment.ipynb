{
 "cells": [
  {
   "cell_type": "markdown",
   "metadata": {},
   "source": [
    "# Assignment Day 4 | 9th July 2020\n",
    "\n"
   ]
  },
  {
   "cell_type": "markdown",
   "metadata": {},
   "source": [
    "# Question 1 :\n",
    "Research on whether addition, subtraction, multiplication, division, floor division and modulo\n",
    "operations be performed on complex numbers. Based on your study, implement a Python\n",
    "program to demonstrate these operations."
   ]
  },
  {
   "cell_type": "code",
   "execution_count": 1,
   "metadata": {},
   "outputs": [
    {
     "name": "stdout",
     "output_type": "stream",
     "text": [
      "[(1+14j), (5+7j), (3+4j)]\n",
      "<class 'list'>\n"
     ]
    }
   ],
   "source": [
    "# python follows : PEMDAS P: (brackets) peranthesis, E: exopenet, M: multi, D: div, A: add, S: subt\t\n",
    "\n",
    "Alfha = [1+14j,5+7j, 3+4j]\n",
    "print(Alfha)\n",
    "print(type(Alfha))"
   ]
  },
  {
   "cell_type": "raw",
   "metadata": {},
   "source": [
    "#addition, subtraction, multiplication, division, floor division and modulo operations be performed on normal numbers\n",
    "2+3-1\n",
    "=(2+3)-1\n",
    "= 4\n",
    "\n",
    "1+1**5-2\n",
    "=1+(1**5)-2\n",
    "=0\n",
    "\n",
    "2*3/2\n",
    "=(2*3)/2\n",
    "=3"
   ]
  },
  {
   "cell_type": "code",
   "execution_count": 2,
   "metadata": {},
   "outputs": [
    {
     "data": {
      "text/plain": [
       "(-1+25j)"
      ]
     },
     "execution_count": 2,
     "metadata": {},
     "output_type": "execute_result"
    }
   ],
   "source": [
    "#addition\n",
    "1+14j+3+4j-5+7j"
   ]
  },
  {
   "cell_type": "code",
   "execution_count": 3,
   "metadata": {},
   "outputs": [
    {
     "data": {
      "text/plain": [
       "(4+1045j)"
      ]
     },
     "execution_count": 3,
     "metadata": {},
     "output_type": "execute_result"
    }
   ],
   "source": [
    "#addition, multification\n",
    "1+14j+3+4j**5+7j\n"
   ]
  },
  {
   "cell_type": "code",
   "execution_count": 4,
   "metadata": {},
   "outputs": [
    {
     "data": {
      "text/plain": [
       "(1+44j)"
      ]
     },
     "execution_count": 4,
     "metadata": {},
     "output_type": "execute_result"
    }
   ],
   "source": [
    "#division:\n",
    "1+14j*3+4j/2\n"
   ]
  },
  {
   "cell_type": "code",
   "execution_count": 5,
   "metadata": {},
   "outputs": [
    {
     "ename": "TypeError",
     "evalue": "can't mod complex numbers.",
     "output_type": "error",
     "traceback": [
      "\u001b[1;31m---------------------------------------------------------------------------\u001b[0m",
      "\u001b[1;31mTypeError\u001b[0m                                 Traceback (most recent call last)",
      "\u001b[1;32m<ipython-input-5-520d1452bf3a>\u001b[0m in \u001b[0;36m<module>\u001b[1;34m\u001b[0m\n\u001b[0;32m      1\u001b[0m \u001b[1;31m#modulus\u001b[0m\u001b[1;33m\u001b[0m\u001b[1;33m\u001b[0m\u001b[1;33m\u001b[0m\u001b[0m\n\u001b[1;32m----> 2\u001b[1;33m \u001b[1;36m1\u001b[0m\u001b[1;33m+\u001b[0m\u001b[1;36m14j\u001b[0m\u001b[1;33m%\u001b[0m\u001b[1;36m3\u001b[0m\u001b[1;33m+\u001b[0m\u001b[1;36m4j\u001b[0m\u001b[1;33m\u001b[0m\u001b[1;33m\u001b[0m\u001b[0m\n\u001b[0m",
      "\u001b[1;31mTypeError\u001b[0m: can't mod complex numbers."
     ]
    }
   ],
   "source": [
    "#modulus\n",
    "1+14j%3+4j"
   ]
  },
  {
   "cell_type": "code",
   "execution_count": 6,
   "metadata": {},
   "outputs": [
    {
     "ename": "TypeError",
     "evalue": "can't take floor of complex number.",
     "output_type": "error",
     "traceback": [
      "\u001b[1;31m---------------------------------------------------------------------------\u001b[0m",
      "\u001b[1;31mTypeError\u001b[0m                                 Traceback (most recent call last)",
      "\u001b[1;32m<ipython-input-6-948574f8f742>\u001b[0m in \u001b[0;36m<module>\u001b[1;34m\u001b[0m\n\u001b[1;32m----> 1\u001b[1;33m \u001b[1;36m1\u001b[0m\u001b[1;33m+\u001b[0m\u001b[1;36m14j\u001b[0m\u001b[1;33m//\u001b[0m\u001b[1;36m3\u001b[0m\u001b[1;33m+\u001b[0m\u001b[1;36m4j\u001b[0m\u001b[1;33m\u001b[0m\u001b[1;33m\u001b[0m\u001b[0m\n\u001b[0m",
      "\u001b[1;31mTypeError\u001b[0m: can't take floor of complex number."
     ]
    }
   ],
   "source": [
    "1+14j//3+4j"
   ]
  },
  {
   "cell_type": "markdown",
   "metadata": {},
   "source": [
    "modulus and divsion operation ot perform on complex numbers."
   ]
  },
  {
   "cell_type": "markdown",
   "metadata": {},
   "source": [
    "# Question 2 :"
   ]
  },
  {
   "cell_type": "markdown",
   "metadata": {},
   "source": [
    "Research on range() functions and its parameters. Create a markdown cell and write in your own\n",
    "words (no copy-paste from google please) what you understand about it. Implement a small\n",
    "program of your choice on the same."
   ]
  },
  {
   "cell_type": "code",
   "execution_count": 7,
   "metadata": {},
   "outputs": [
    {
     "name": "stdout",
     "output_type": "stream",
     "text": [
      "List generated using 1 parameter : <class 'list'>\n",
      "[-1, 0, 1, 2, 3, 4, 5]\n",
      "[0, 1, 2, 3, 4, 5]\n"
     ]
    }
   ],
   "source": [
    "#Syntax : range(start, stop, step); start: starting value, stop : last values, step: sequence, at how many count should take to reach last/stop value\n",
    "\n",
    "Range1 = list(range(6)) \n",
    "Range2 = list(range(-1,6))\n",
    "Range3 = list(range(2,8))\n",
    "\n",
    "print(\"List generated using 1 parameter : \" + str(list)) \n",
    "print(Range2)\n",
    "print(Range1)"
   ]
  },
  {
   "cell_type": "markdown",
   "metadata": {},
   "source": [
    "## Source: Fundamentals of Programming : Richard L. Halterman Southern Adventist University\n",
    "\n",
    "1.People use to confuse Range as function, its not function it is class of fuction.\n",
    "2.Range use as parameters to limit the high and low values, which can be usefule in between other functions as well.\n",
    "\n",
    "## source: \n",
    "\n",
    "1.It correct limitation of tha while loop, that we are not constrained to incrementing the count variable by any number For example, we could have decided to increment count by 2 each time round the loop. Where as, range allows us to do exactly this; a third argument that can be provided to the range function is the value to increment the loop variable by each time round the loop,\n",
    "for ex:\n",
    "### Now use values in a range but increment by 2\n",
    "print('Print out val in a range with an increment of 2')\n",
    "for i in range(-8, 6, 2):\n",
    "    print(i, ' ', end='')\n",
    "print()\n",
    "print('Done')\n",
    "\n",
    "When we run this code, the output is\n",
    ">>>[1]Print out val in a range with an increment of 2\n",
    ">>>-8  -6  -4  -2  0  2  4  \n",
    ">>>Done\n",
    "#but here we need to aware that, count agains  should be int not float, when you tried float for above code, you will get error, i.e TypeError: 'float' object cannot be interpreted as an integer, but incorperat float , then can use sequence command as float vlaues. To use fload, need to use numpy and use arange() function."
   ]
  },
  {
   "cell_type": "code",
   "execution_count": 8,
   "metadata": {},
   "outputs": [
    {
     "name": "stdout",
     "output_type": "stream",
     "text": [
      "Print out val in a range with an increment of 2\n",
      "-8  -6  -4  -2  0  2  4  \n",
      "Done\n"
     ]
    }
   ],
   "source": [
    "print('Print out val in a range with an increment of 2')\n",
    "for i in range(-8, 6, 2):\n",
    "    print(i, ' ', end='')\n",
    "print()\n",
    "print('Done')"
   ]
  },
  {
   "cell_type": "markdown",
   "metadata": {},
   "source": [
    "using for loop and range function in one code!"
   ]
  },
  {
   "cell_type": "markdown",
   "metadata": {},
   "source": [
    "# Question 3:"
   ]
  },
  {
   "cell_type": "markdown",
   "metadata": {},
   "source": [
    "Consider two numbers. Perform their subtraction and if the result of subtraction is greater than\n",
    "25, print their multiplication result else print their division result."
   ]
  },
  {
   "cell_type": "code",
   "execution_count": 9,
   "metadata": {},
   "outputs": [
    {
     "name": "stdout",
     "output_type": "stream",
     "text": [
      "Enter value of a: 78\n",
      "Enter value of b: 52\n",
      "Difference is > 25 , Multiplication of both numbers= 4056\n"
     ]
    }
   ],
   "source": [
    "\n",
    "# To take inputs from the user\n",
    "a = int(input('Enter value of a: '))\n",
    "b = int(input('Enter value of b: '))\n",
    "\n",
    "if (a-b)>25:\n",
    "    print(\"Difference is > 25 , Multiplication of both numbers=\" , a*b)\n",
    "    \n",
    "else :\n",
    "    print(\"Difference is < 25,  division of both numbers = \",  a//b)\n"
   ]
  },
  {
   "cell_type": "markdown",
   "metadata": {},
   "source": [
    "# Question 4:\n"
   ]
  },
  {
   "cell_type": "markdown",
   "metadata": {},
   "source": [
    "Consider a list of 10 elements of integer values. If the number in the list is divisible by 2, print the\n",
    "result as \"square of that number minus 2\"."
   ]
  },
  {
   "cell_type": "code",
   "execution_count": 10,
   "metadata": {},
   "outputs": [
    {
     "name": "stdout",
     "output_type": "stream",
     "text": [
      "2\n",
      "14\n",
      "34\n",
      "62\n",
      "98\n"
     ]
    }
   ],
   "source": [
    "list=[1,2,3,4,5,6,7,8,9,10,11]\n",
    "\n",
    " \n",
    "for i in list:\n",
    "    if list[i-1]%2==0:\n",
    "            print(list[i-1]**2-2)"
   ]
  },
  {
   "cell_type": "markdown",
   "metadata": {},
   "source": [
    "# Question 5:\n"
   ]
  },
  {
   "cell_type": "markdown",
   "metadata": {},
   "source": [
    "Consider a list of 10 elements. Print all the elements in the list which are greater than 7 when that\n",
    "number is divided 2."
   ]
  },
  {
   "cell_type": "code",
   "execution_count": 11,
   "metadata": {},
   "outputs": [
    {
     "name": "stdout",
     "output_type": "stream",
     "text": [
      "17\n",
      "16\n",
      "49\n",
      "48\n",
      "56\n",
      "63\n",
      "72\n",
      "70\n",
      "77\n",
      "87\n"
     ]
    }
   ],
   "source": [
    "list=[7,8,9,10,11,12,13,14,16,49,48,56,63,72,70,77,87]\n",
    "print(len(list))\n",
    "\n",
    "    \n",
    "for i in range(len(list)):\n",
    "    if (list[i])//2>7:\n",
    "            print(list[i])"
   ]
  },
  {
   "cell_type": "code",
   "execution_count": null,
   "metadata": {},
   "outputs": [],
   "source": []
  }
 ],
 "metadata": {
  "kernelspec": {
   "display_name": "Python 3",
   "language": "python",
   "name": "python3"
  },
  "language_info": {
   "codemirror_mode": {
    "name": "ipython",
    "version": 3
   },
   "file_extension": ".py",
   "mimetype": "text/x-python",
   "name": "python",
   "nbconvert_exporter": "python",
   "pygments_lexer": "ipython3",
   "version": "3.7.4"
  }
 },
 "nbformat": 4,
 "nbformat_minor": 2
}
