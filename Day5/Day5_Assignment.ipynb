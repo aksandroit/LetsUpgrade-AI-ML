{
 "cells": [
  {
   "cell_type": "markdown",
   "metadata": {},
   "source": [
    "# Assignment Day 5 | 10th July 2020"
   ]
  },
  {
   "cell_type": "markdown",
   "metadata": {},
   "source": [
    "## Question 1 :\n",
    "\n",
    "Write a Python program to find the first 20 non-even prime natural numbers."
   ]
  },
  {
   "cell_type": "code",
   "execution_count": 1,
   "metadata": {},
   "outputs": [
    {
     "name": "stdout",
     "output_type": "stream",
     "text": [
      "Prime numbers between 1 and  100  are:\n",
      "3 4 5 7 11 13 17 19 23 29 31 37 41 43 47 53 59 61 67 71 "
     ]
    }
   ],
   "source": [
    "# program to display first 20 Prime numbers \n",
    "\n",
    "# Function to print first 20 prime numbers \n",
    "def print_first_20_primes(N): \n",
    "\n",
    "\n",
    "\n",
    "# Print display message \n",
    "    print(\"Prime numbers between 1 and \",  100 , \" are:\"); \n",
    "\n",
    "# Traverse each number from 1 to N \n",
    "# with the help of for loop \n",
    "    for i in range(3, N + 1, 1): \n",
    "\n",
    "# Skip 0 and 1 as they are \n",
    "# niether prime nor composite \n",
    "        if (i == 1 or i == 0): \n",
    "            continue; \n",
    "\n",
    "# flag variable to tell \n",
    "# if i is prime or not \n",
    "        flag = 1; \n",
    "\n",
    "        for j in range(3, ((i // 2) + 1), 1): \n",
    "            if (i % j == 0): \n",
    "                flag = 0; \n",
    "                break; \n",
    "# and flag = 0 means i is not prime \n",
    "        if (flag == 1): \n",
    "            print(i, end = \" \"); \n",
    "\n",
    "# Driver code \n",
    "N = 71; \n",
    "print_first_20_primes(N); \n",
    "\n",
    "\n"
   ]
  },
  {
   "cell_type": "markdown",
   "metadata": {},
   "source": [
    "## Question 2 : \n",
    "Write a Python program to implement 15 functions of string."
   ]
  },
  {
   "cell_type": "code",
   "execution_count": 2,
   "metadata": {},
   "outputs": [
    {
     "name": "stdout",
     "output_type": "stream",
     "text": [
      "False\n",
      "False\n",
      "False\n",
      "False\n",
      "False\n",
      "True\n",
      "We are learning letsUpgrade's Assigments are breaking, Our head and boundaries, But helping us to grow morally100% regular practise will help us\n",
      "We need to do better letsUpgrade's Assigments are breaking, Our head and boundaries, But helping us to grow morally100% Learning is my favourite\n",
      "Letsupgrade'S Assigments Are Breaking, Our Head And Boundaries, But Helping Us To Grow Morally100%\n",
      "LETSuPGRADE'S aSSIGMENTS ARE BREAKING, oUR HEAD AND BOUNDARIES, bUT HELPING US TO GROW MORALLY100%\n",
      "LETSUPGRADE'S ASSIGMENTS ARE BREAKING, OUR HEAD AND BOUNDARIES, BUT HELPING US TO GROW MORALLY100%\n",
      "letsUpgrade's Assigments are breaking, Our head and boundaries, But helping us to grow morally100%\n",
      "False\n",
      "52\n",
      "False\n"
     ]
    }
   ],
   "source": [
    "txt = (\"letsUpgrade's Assigments are breaking, Our head and boundaries, But helping us to grow morally100%\")\n",
    "txt\n",
    "#lower case feature\n",
    "x1 = txt.islower()\n",
    "#Upper case\n",
    "x2 = txt.isupper()\n",
    "# space:\n",
    "x3 =txt.isspace()\n",
    "#alphabet\n",
    "x4 = txt.isalpha()\n",
    "#checking for digits \n",
    "x5 = txt.isdigit()\n",
    "# txt is printable\n",
    "x6 = txt.isprintable()\n",
    "#txt as trim\n",
    "x7 = txt.lstrip()\n",
    "#txt right trim\n",
    "x8 =txt.rstrip()\n",
    "# making first letter caps\n",
    "x9= txt.title()\n",
    "#swaping upper n lower case\n",
    "x10 =txt.swapcase()\n",
    "#Converts string into case\n",
    "x11 = txt.upper()\n",
    "#foramt map for strings\n",
    "x12 = txt.format()\n",
    "#checking white space\n",
    "x13 = txt.isspace()\n",
    "#checking index of any word\n",
    "x14 = txt.index(\"boundaries\")\n",
    "#checking alfanumeric\n",
    "x15 = txt.isalnum()\n",
    "\n",
    "print(x1)\n",
    "print(x2)\n",
    "print(x3)\n",
    "print(x4)\n",
    "print(x5)\n",
    "print(x6)\n",
    "print(\"We are learning\", x7, \"regular practise will help us\")\n",
    "print(\"We need to do better\", x8, \"Learning is my favourite\")\n",
    "print(x9)\n",
    "print(x10)\n",
    "print(x11)\n",
    "print(x12)\n",
    "print(x13)\n",
    "print(x14)\n",
    "print(x15)"
   ]
  },
  {
   "cell_type": "markdown",
   "metadata": {},
   "source": [
    "## Question 3:\n",
    "Write a Python program to check if the given string is a Palindrome or Anagram or None of them.\n",
    "Display the message accordingly to the user."
   ]
  },
  {
   "cell_type": "code",
   "execution_count": 3,
   "metadata": {},
   "outputs": [
    {
     "name": "stdout",
     "output_type": "stream",
     "text": [
      "Provide a string to check for palindrome:level\n",
      "The given  level  string is a palindrome.\n",
      "Provide the first string for anagram:earth\n",
      "Provide the 2nd string for anagram:heart\n",
      "The two string  earth  and  heart  are anagrams.\n"
     ]
    }
   ],
   "source": [
    "str=input(\"Provide a string to check for palindrome:\")\n",
    "\n",
    "\n",
    "#check for palindrome\n",
    "str_rev=str[::1]\n",
    "if str_rev==str:\n",
    "    print(\"The given \",str,\" string is a palindrome.\")\n",
    "else:\n",
    "    print(\"The given \",str,\" string is not a palindrome\")\n",
    "    \n",
    "#check for anagram\n",
    "str1=input(\"Provide the first string for anagram:\")\n",
    "str2=input(\"Provide the 2nd string for anagram:\")\n",
    "\n",
    "if(sorted(str1)==sorted(str2)):\n",
    "    print(\"The two string \",str1,\" and \",str2,\" are anagrams.\")\n",
    "else:\n",
    "    print(\"The two string \",str1,\" and \",str2,\" are not anagrams.\")\n",
    "    "
   ]
  },
  {
   "cell_type": "markdown",
   "metadata": {},
   "source": [
    "## Question 4:\n",
    "Write a Python's user defined function that removes all the additional characters from the string\n",
    "and converts it finally to lower case using built-in lower(). eg: If the string is \"Dr. Darshan Ingle\n",
    "@AI-ML Trainer\", then the output be \"drdarshaningle aimltrainer\"."
   ]
  },
  {
   "cell_type": "code",
   "execution_count": 4,
   "metadata": {},
   "outputs": [
    {
     "name": "stdout",
     "output_type": "stream",
     "text": [
      "drdarshaningle aimltrainer\n"
     ]
    }
   ],
   "source": [
    "txt =(\"Dr. Darshan Ingle @AI-ML Trainer\")\n",
    "txt = txt.lower()\n",
    "txt\n",
    "x=\"\"\n",
    "for i in range(len(txt)):\n",
    "    if ord(txt[i])==ord('@'):\n",
    "        x=x+\" \"\n",
    "    elif ord(txt[i])>= ord('a') and ord(txt[i-1]) <= ord('z'):\n",
    "        x=x+txt[i]\n",
    "print(x)"
   ]
  }
 ],
 "metadata": {
  "kernelspec": {
   "display_name": "Python 3",
   "language": "python",
   "name": "python3"
  },
  "language_info": {
   "codemirror_mode": {
    "name": "ipython",
    "version": 3
   },
   "file_extension": ".py",
   "mimetype": "text/x-python",
   "name": "python",
   "nbconvert_exporter": "python",
   "pygments_lexer": "ipython3",
   "version": "3.7.4"
  }
 },
 "nbformat": 4,
 "nbformat_minor": 2
}
